{
 "cells": [
  {
   "cell_type": "code",
   "execution_count": 22,
   "id": "939d0269-a3a0-478c-b9d7-5a507934fdbd",
   "metadata": {},
   "outputs": [],
   "source": [
    "import string\n",
    "import numpy as np\n",
    "import matplotlib\n",
    "import matplotlib.pyplot as plt\n",
    "import pandas as pd "
   ]
  },
  {
   "cell_type": "code",
   "execution_count": 25,
   "id": "caca4b49-6649-4b22-97db-2cab5b0024c5",
   "metadata": {},
   "outputs": [],
   "source": [
    "# these bits are set earlier in the script\n",
    "sys1 = 'UPTA'\n",
    "sys2 = 'DEDA'\n",
    "count = 2 ### THIS NEEDS TO BE SET FROM FIRST PART OF SCRIPT"
   ]
  },
  {
   "cell_type": "code",
   "execution_count": 168,
   "id": "f45fda41-0eaf-4580-a9d5-3fc3dba7180e",
   "metadata": {},
   "outputs": [],
   "source": [
    "# reads alignment into a NumPy array\n",
    "\n",
    "table = str.maketrans('', '', string.ascii_lowercase)\n",
    "def reorder_alignment_for_plot(num):\n",
    "    new_sequence = []\n",
    "    with open('test.txt', \"r\") as ifile:\n",
    "        # this count keeps track of total lines\n",
    "        count = 0\n",
    "        # define one data series for each sequences used\n",
    "        for line_number,line in enumerate(ifile):\n",
    "            if 'sequence' in line:\n",
    "                # this bit simply removes non-sequence chars from the line\n",
    "                line = (line.translate(table).strip('\\n '))\n",
    "                # save line with revised line number\n",
    "                line_array = [ line, count ]\n",
    "                new_sequence.append(line.translate(table).strip('\\n '))\n",
    "                #print(new_sequence)'''\n",
    "                count=count+1\n",
    "    # count/num gives the lines per sequence\n",
    "    return count/num, new_sequence\n",
    "#print(alignment)\n",
    "\n",
    "lines, new_sequence = reorder_alignment_for_plot(count)\n"
   ]
  },
  {
   "cell_type": "code",
   "execution_count": 201,
   "id": "b25ce45e-78ab-46bf-8ba5-d1f1d03c90c9",
   "metadata": {},
   "outputs": [],
   "source": [
    "# this makes a new occupancy file which is formatted as per the alignment file, i.e. including breaks\n",
    "def occupancy_to_new_file ():\n",
    "    f = open('Occupancy_reformatted.txt','w')\n",
    "    for system in np.arange(0,count):\n",
    "        reformatted_occupancy = []\n",
    "        residue_count = 0\n",
    "        for line in np.array(range(int(lines))):\n",
    "            sequence = new_sequence[system+(line*count)]\n",
    "            reformatted_occupancy.append(sequence)\n",
    "            f = open('Occupancy_reformatted.txt','a')\n",
    "            for aa,char in enumerate(sequence):\n",
    "                if char != '-':\n",
    "                    f.write('%s ' % occupancy[system][residue_count])\n",
    "                    residue_count = residue_count+1\n",
    "                else:\n",
    "                    f.write(' -1 ')\n",
    "            f.write('\\n')\n",
    "\n",
    "occupancy_to_new_file()"
   ]
  },
  {
   "cell_type": "code",
   "execution_count": 208,
   "id": "737ec817-38fd-4287-b25f-60e8658c835f",
   "metadata": {},
   "outputs": [
    {
     "name": "stdout",
     "output_type": "stream",
     "text": [
      "MDLIYFLIDFILHIDVHLAELVAEYGVWV----YAILFLILFCETGLVVTPFLPGDSLLF 5.0 0 0\n"
     ]
    },
    {
     "ename": "NameError",
     "evalue": "name 'residue_count' is not defined",
     "output_type": "error",
     "traceback": [
      "\u001b[0;31m---------------------------------------------------------------------------\u001b[0m",
      "\u001b[0;31mNameError\u001b[0m                                 Traceback (most recent call last)",
      "\u001b[0;32m<ipython-input-208-cf26f1b5a4bf>\u001b[0m in \u001b[0;36m<module>\u001b[0;34m()\u001b[0m\n\u001b[1;32m     37\u001b[0m         \u001b[0mprint\u001b[0m\u001b[0;34m(\u001b[0m\u001b[0mnew_sequence\u001b[0m\u001b[0;34m[\u001b[0m\u001b[0malignment_line\u001b[0m\u001b[0;34m]\u001b[0m\u001b[0;34m,\u001b[0m \u001b[0mlines\u001b[0m\u001b[0;34m,\u001b[0m \u001b[0msystem\u001b[0m\u001b[0;34m,\u001b[0m \u001b[0mtotal_count\u001b[0m\u001b[0;34m)\u001b[0m\u001b[0;34m\u001b[0m\u001b[0;34m\u001b[0m\u001b[0m\n\u001b[1;32m     38\u001b[0m         heatmap_values, sequence_array, occupancy_count, total_count = get_occupancy_reordered(\n\u001b[0;32m---> 39\u001b[0;31m             new_sequence[alignment_line], system, total_count )\n\u001b[0m\u001b[1;32m     40\u001b[0m         \u001b[0mheatmap_array\u001b[0m\u001b[0;34m.\u001b[0m\u001b[0mappend\u001b[0m\u001b[0;34m(\u001b[0m\u001b[0mheatmap_values\u001b[0m\u001b[0;34m)\u001b[0m\u001b[0;34m\u001b[0m\u001b[0;34m\u001b[0m\u001b[0m\n\u001b[1;32m     41\u001b[0m         \u001b[0mtext_array\u001b[0m\u001b[0;34m.\u001b[0m\u001b[0mappend\u001b[0m\u001b[0;34m(\u001b[0m\u001b[0msequence_array\u001b[0m\u001b[0;34m)\u001b[0m\u001b[0;34m\u001b[0m\u001b[0;34m\u001b[0m\u001b[0m\n",
      "\u001b[0;32m<ipython-input-208-cf26f1b5a4bf>\u001b[0m in \u001b[0;36mget_occupancy_reordered\u001b[0;34m(sequence, system, total_count_in)\u001b[0m\n\u001b[1;32m     14\u001b[0m     \u001b[0;32mfor\u001b[0m \u001b[0maa\u001b[0m\u001b[0;34m,\u001b[0m\u001b[0mchar\u001b[0m \u001b[0;32min\u001b[0m \u001b[0menumerate\u001b[0m\u001b[0;34m(\u001b[0m\u001b[0msequence\u001b[0m\u001b[0;34m)\u001b[0m\u001b[0;34m:\u001b[0m\u001b[0;34m\u001b[0m\u001b[0;34m\u001b[0m\u001b[0m\n\u001b[1;32m     15\u001b[0m         \u001b[0;32mif\u001b[0m \u001b[0mchar\u001b[0m \u001b[0;34m!=\u001b[0m \u001b[0;34m'-1'\u001b[0m\u001b[0;34m:\u001b[0m\u001b[0;34m\u001b[0m\u001b[0;34m\u001b[0m\u001b[0m\n\u001b[0;32m---> 16\u001b[0;31m             \u001b[0mheatmap\u001b[0m\u001b[0;34m.\u001b[0m\u001b[0mappend\u001b[0m\u001b[0;34m(\u001b[0m\u001b[0mfloat\u001b[0m\u001b[0;34m(\u001b[0m\u001b[0moccupancy\u001b[0m\u001b[0;34m[\u001b[0m\u001b[0msystem\u001b[0m\u001b[0;34m]\u001b[0m\u001b[0;34m[\u001b[0m\u001b[0mresidue_count\u001b[0m\u001b[0;34m]\u001b[0m\u001b[0;34m)\u001b[0m\u001b[0;34m)\u001b[0m\u001b[0;34m\u001b[0m\u001b[0;34m\u001b[0m\u001b[0m\n\u001b[0m\u001b[1;32m     17\u001b[0m             \u001b[0msequence_array\u001b[0m\u001b[0;34m.\u001b[0m\u001b[0mappend\u001b[0m\u001b[0;34m(\u001b[0m\u001b[0mchar\u001b[0m\u001b[0;34m)\u001b[0m\u001b[0;34m\u001b[0m\u001b[0;34m\u001b[0m\u001b[0m\n\u001b[1;32m     18\u001b[0m             \u001b[0;31m#occupancy_count = occupancy_count+1\u001b[0m\u001b[0;34m\u001b[0m\u001b[0;34m\u001b[0m\u001b[0;34m\u001b[0m\u001b[0m\n",
      "\u001b[0;31mNameError\u001b[0m: name 'residue_count' is not defined"
     ]
    }
   ],
   "source": [
    "# working in here - this needs to be edited for the new Occupancy_reformatted file \n",
    "def get_occupancy_reordered(sequence, system, total_count_in):\n",
    "    occupancy = []\n",
    "    with open('Occupancy_reformatted.txt','r') as ifile:\n",
    "        for line in ifile:\n",
    "                occupancy.append(line.split( ))\n",
    "    heatmap = []\n",
    "    sequence_array = []\n",
    "    #print(occupancy[system])\n",
    "    # to keep track of progress through occupancy file\n",
    "    occupancy_count = occupancy_count_in\n",
    "    #residue_count = occupancy_count_in\n",
    "    total_count = total_count_in\n",
    "    for aa,char in enumerate(sequence):\n",
    "        if char != '-1':\n",
    "            heatmap.append(float(occupancy[system][residue_count]))\n",
    "            sequence_array.append(char)\n",
    "            #occupancy_count = occupancy_count+1\n",
    "            #residue_count = residue_count+1\n",
    "            total_count = total_count+1\n",
    "        else:\n",
    "            heatmap.append(-1)\n",
    "            sequence_array.append(char)\n",
    "            total_count = total_count+1\n",
    "    return heatmap, sequence_array, total_count\n",
    "\n",
    "# for each line, make an array of sequences and plot\n",
    "a = np.array(range(int(lines)))\n",
    "total_count = 0\n",
    "for line in a: #a[::-1]: \n",
    "    # loop through systems, i.e. input files\n",
    "    heatmap_array = []\n",
    "    text_array = []\n",
    "    for system in np.arange(0,count):\n",
    "        #occupancy_count = 0 # this will be wrong\n",
    "        alignment_line = line*count+system\n",
    "        print(new_sequence[alignment_line], lines, system, total_count)\n",
    "        heatmap_values, sequence_array, occupancy_count, total_count = get_occupancy_reordered(\n",
    "            new_sequence[alignment_line], system, total_count )\n",
    "        heatmap_array.append(heatmap_values)\n",
    "        text_array.append(sequence_array)\n",
    "    print(heatmap_array)\n",
    "        #plot_sequence(heatmap_array, alignment_line, line, sys1, sys2)\n",
    "    #add_labels(text_array[0],text_array[1],alignment_line, line)\n",
    "\n",
    "#def get_occupancy_reordered(sequence, lines, system, occupancy_count_in, total_count_in):\n",
    "#for i in np.arange(0,1): #int(lines*count)):\n",
    "   # a,b,c,d = get_occupancy_reordered('AK', i, 8, 8)\n",
    "   # print(a,b,c,d)"
   ]
  },
  {
   "cell_type": "code",
   "execution_count": 138,
   "id": "3c41c3e6-5375-4f61-8ba0-8d570036b0e7",
   "metadata": {},
   "outputs": [
    {
     "ename": "ValueError",
     "evalue": "Number of rows must be a positive integer, not 5.0",
     "output_type": "error",
     "traceback": [
      "\u001b[0;31m---------------------------------------------------------------------------\u001b[0m",
      "\u001b[0;31mValueError\u001b[0m                                Traceback (most recent call last)",
      "\u001b[0;32m<ipython-input-138-3bbd309f5827>\u001b[0m in \u001b[0;36m<module>\u001b[0;34m()\u001b[0m\n\u001b[1;32m     17\u001b[0m \u001b[0mfig\u001b[0m \u001b[0;34m=\u001b[0m \u001b[0mmatplotlib\u001b[0m\u001b[0;34m.\u001b[0m\u001b[0mpyplot\u001b[0m\u001b[0;34m.\u001b[0m\u001b[0mgcf\u001b[0m\u001b[0;34m(\u001b[0m\u001b[0;34m)\u001b[0m\u001b[0;34m\u001b[0m\u001b[0;34m\u001b[0m\u001b[0m\n\u001b[1;32m     18\u001b[0m \u001b[0mfig\u001b[0m\u001b[0;34m.\u001b[0m\u001b[0mset_size_inches\u001b[0m\u001b[0;34m(\u001b[0m\u001b[0mlines\u001b[0m\u001b[0;34m*\u001b[0m\u001b[0;34m(\u001b[0m\u001b[0mcount\u001b[0m\u001b[0;34m+\u001b[0m\u001b[0;36m1\u001b[0m\u001b[0;34m)\u001b[0m\u001b[0;34m,\u001b[0m \u001b[0;36m6\u001b[0m\u001b[0;34m)\u001b[0m\u001b[0;34m\u001b[0m\u001b[0;34m\u001b[0m\u001b[0m\n\u001b[0;32m---> 19\u001b[0;31m \u001b[0mgs\u001b[0m \u001b[0;34m=\u001b[0m \u001b[0mfig\u001b[0m\u001b[0;34m.\u001b[0m\u001b[0madd_gridspec\u001b[0m\u001b[0;34m(\u001b[0m\u001b[0mlines\u001b[0m\u001b[0;34m,\u001b[0m\u001b[0;36m1\u001b[0m\u001b[0;34m,\u001b[0m \u001b[0mhspace\u001b[0m\u001b[0;34m=\u001b[0m\u001b[0;36m0\u001b[0m\u001b[0;34m)\u001b[0m\u001b[0;34m\u001b[0m\u001b[0;34m\u001b[0m\u001b[0m\n\u001b[0m\u001b[1;32m     20\u001b[0m \u001b[0maxs\u001b[0m \u001b[0;34m=\u001b[0m \u001b[0mgs\u001b[0m\u001b[0;34m.\u001b[0m\u001b[0msubplots\u001b[0m\u001b[0;34m(\u001b[0m\u001b[0msharex\u001b[0m\u001b[0;34m=\u001b[0m\u001b[0;32mTrue\u001b[0m\u001b[0;34m)\u001b[0m\u001b[0;34m\u001b[0m\u001b[0;34m\u001b[0m\u001b[0m\n\u001b[1;32m     21\u001b[0m \u001b[0;34m\u001b[0m\u001b[0m\n",
      "\u001b[0;32m/Users/robincorey/miniconda3/envs/pensa/lib/python3.7/site-packages/matplotlib/figure.py\u001b[0m in \u001b[0;36madd_gridspec\u001b[0;34m(self, nrows, ncols, **kwargs)\u001b[0m\n\u001b[1;32m   1445\u001b[0m \u001b[0;34m\u001b[0m\u001b[0m\n\u001b[1;32m   1446\u001b[0m         \u001b[0m_\u001b[0m \u001b[0;34m=\u001b[0m \u001b[0mkwargs\u001b[0m\u001b[0;34m.\u001b[0m\u001b[0mpop\u001b[0m\u001b[0;34m(\u001b[0m\u001b[0;34m'figure'\u001b[0m\u001b[0;34m,\u001b[0m \u001b[0;32mNone\u001b[0m\u001b[0;34m)\u001b[0m  \u001b[0;31m# pop in case user has added this...\u001b[0m\u001b[0;34m\u001b[0m\u001b[0;34m\u001b[0m\u001b[0m\n\u001b[0;32m-> 1447\u001b[0;31m         \u001b[0mgs\u001b[0m \u001b[0;34m=\u001b[0m \u001b[0mGridSpec\u001b[0m\u001b[0;34m(\u001b[0m\u001b[0mnrows\u001b[0m\u001b[0;34m=\u001b[0m\u001b[0mnrows\u001b[0m\u001b[0;34m,\u001b[0m \u001b[0mncols\u001b[0m\u001b[0;34m=\u001b[0m\u001b[0mncols\u001b[0m\u001b[0;34m,\u001b[0m \u001b[0mfigure\u001b[0m\u001b[0;34m=\u001b[0m\u001b[0mself\u001b[0m\u001b[0;34m,\u001b[0m \u001b[0;34m**\u001b[0m\u001b[0mkwargs\u001b[0m\u001b[0;34m)\u001b[0m\u001b[0;34m\u001b[0m\u001b[0;34m\u001b[0m\u001b[0m\n\u001b[0m\u001b[1;32m   1448\u001b[0m         \u001b[0mself\u001b[0m\u001b[0;34m.\u001b[0m\u001b[0m_gridspecs\u001b[0m\u001b[0;34m.\u001b[0m\u001b[0mappend\u001b[0m\u001b[0;34m(\u001b[0m\u001b[0mgs\u001b[0m\u001b[0;34m)\u001b[0m\u001b[0;34m\u001b[0m\u001b[0;34m\u001b[0m\u001b[0m\n\u001b[1;32m   1449\u001b[0m         \u001b[0;32mreturn\u001b[0m \u001b[0mgs\u001b[0m\u001b[0;34m\u001b[0m\u001b[0;34m\u001b[0m\u001b[0m\n",
      "\u001b[0;32m/Users/robincorey/miniconda3/envs/pensa/lib/python3.7/site-packages/matplotlib/gridspec.py\u001b[0m in \u001b[0;36m__init__\u001b[0;34m(self, nrows, ncols, figure, left, bottom, right, top, wspace, hspace, width_ratios, height_ratios)\u001b[0m\n\u001b[1;32m    385\u001b[0m         super().__init__(nrows, ncols,\n\u001b[1;32m    386\u001b[0m                          \u001b[0mwidth_ratios\u001b[0m\u001b[0;34m=\u001b[0m\u001b[0mwidth_ratios\u001b[0m\u001b[0;34m,\u001b[0m\u001b[0;34m\u001b[0m\u001b[0;34m\u001b[0m\u001b[0m\n\u001b[0;32m--> 387\u001b[0;31m                          height_ratios=height_ratios)\n\u001b[0m\u001b[1;32m    388\u001b[0m \u001b[0;34m\u001b[0m\u001b[0m\n\u001b[1;32m    389\u001b[0m     \u001b[0m_AllowedKeys\u001b[0m \u001b[0;34m=\u001b[0m \u001b[0;34m[\u001b[0m\u001b[0;34m\"left\"\u001b[0m\u001b[0;34m,\u001b[0m \u001b[0;34m\"bottom\"\u001b[0m\u001b[0;34m,\u001b[0m \u001b[0;34m\"right\"\u001b[0m\u001b[0;34m,\u001b[0m \u001b[0;34m\"top\"\u001b[0m\u001b[0;34m,\u001b[0m \u001b[0;34m\"wspace\"\u001b[0m\u001b[0;34m,\u001b[0m \u001b[0;34m\"hspace\"\u001b[0m\u001b[0;34m]\u001b[0m\u001b[0;34m\u001b[0m\u001b[0;34m\u001b[0m\u001b[0m\n",
      "\u001b[0;32m/Users/robincorey/miniconda3/envs/pensa/lib/python3.7/site-packages/matplotlib/gridspec.py\u001b[0m in \u001b[0;36m__init__\u001b[0;34m(self, nrows, ncols, height_ratios, width_ratios)\u001b[0m\n\u001b[1;32m     48\u001b[0m         \u001b[0;32mif\u001b[0m \u001b[0;32mnot\u001b[0m \u001b[0misinstance\u001b[0m\u001b[0;34m(\u001b[0m\u001b[0mnrows\u001b[0m\u001b[0;34m,\u001b[0m \u001b[0mIntegral\u001b[0m\u001b[0;34m)\u001b[0m \u001b[0;32mor\u001b[0m \u001b[0mnrows\u001b[0m \u001b[0;34m<=\u001b[0m \u001b[0;36m0\u001b[0m\u001b[0;34m:\u001b[0m\u001b[0;34m\u001b[0m\u001b[0;34m\u001b[0m\u001b[0m\n\u001b[1;32m     49\u001b[0m             raise ValueError(\n\u001b[0;32m---> 50\u001b[0;31m                 f\"Number of rows must be a positive integer, not {nrows!r}\")\n\u001b[0m\u001b[1;32m     51\u001b[0m         \u001b[0;32mif\u001b[0m \u001b[0;32mnot\u001b[0m \u001b[0misinstance\u001b[0m\u001b[0;34m(\u001b[0m\u001b[0mncols\u001b[0m\u001b[0;34m,\u001b[0m \u001b[0mIntegral\u001b[0m\u001b[0;34m)\u001b[0m \u001b[0;32mor\u001b[0m \u001b[0mncols\u001b[0m \u001b[0;34m<=\u001b[0m \u001b[0;36m0\u001b[0m\u001b[0;34m:\u001b[0m\u001b[0;34m\u001b[0m\u001b[0;34m\u001b[0m\u001b[0m\n\u001b[1;32m     52\u001b[0m             raise ValueError(\n",
      "\u001b[0;31mValueError\u001b[0m: Number of rows must be a positive integer, not 5.0"
     ]
    },
    {
     "data": {
      "text/plain": [
       "<Figure size 1080x432 with 0 Axes>"
      ]
     },
     "metadata": {},
     "output_type": "display_data"
    }
   ],
   "source": [
    "def plot_sequence(heatmap_array,alignment_line,line, sys1, sys2):\n",
    "    #takes an array of single letter AA codes and residue attribute values\n",
    "    axs[line].set_yticklabels(['',sys1,sys2])\n",
    "    axs[line].set_xticklabels('')\n",
    "    im = axs[line].imshow(heatmap_array, cmap='Reds', vmin=0, vmax=100 )\n",
    "\n",
    "def add_labels(text_array_1,text_array_2,alignment_line,line):\n",
    "    for x,y in enumerate(np.arange(len(text_array_1))):\n",
    "        axs[line].text(x-0.25,0.25, text_array_1[x], fontsize=10)\n",
    "    for x,y in enumerate(np.arange(len(text_array_2))):\n",
    "        axs[line].text(x-0.25,(1.25), text_array_2[x], fontsize=10)\n",
    "        \n",
    "def add_ticks(offset,line):\n",
    "    for x,y in enumerate(np.arange(0,60,step=10)):\n",
    "        axs[line].text(y-0.4,2.5, y+offset, fontsize=10)\n",
    "    \n",
    "fig = matplotlib.pyplot.gcf()\n",
    "fig.set_size_inches(lines*(count+1), 6)\n",
    "gs = fig.add_gridspec(lines,1, hspace=0)\n",
    "axs = gs.subplots(sharex=True)\n",
    "\n",
    "# for each line, make an array of sequences and plot\n",
    "a = np.array(range(int(lines)))\n",
    "total_count = 0\n",
    "for line in a[::-1]: \n",
    "    # loop through systems, i.e. input files\n",
    "    heatmap_array = []\n",
    "    text_array = []\n",
    "    for system in np.arange(0,count):\n",
    "        occupancy_count = 0 # this will be wrong\n",
    "        alignment_line = line*count+system\n",
    "        heatmap_values, sequence_array, occupancy_count, total_count = get_occupancy(\n",
    "            new_sequence[alignment_line], lines, system, occupancy_count, total_count )\n",
    "        heatmap_array.append(heatmap_values)\n",
    "        text_array.append(sequence_array)\n",
    "        #print(heatmap_array)\n",
    "        plot_sequence(heatmap_array, alignment_line, line, sys1, sys2)\n",
    "    add_labels(text_array[0],text_array[1],alignment_line, line)\n",
    "\n",
    "for line in np.array(range(int(lines))): #a[::-1]:\n",
    "    #print(total_count, line)\n",
    "    pass\n",
    "    add_ticks(line*60, line)\n",
    "    \n",
    "    \n",
    "# Need to resolve: \n",
    "# more than 2 seqs\n",
    "\n"
   ]
  },
  {
   "cell_type": "code",
   "execution_count": null,
   "id": "848e1fef-7232-4069-aff6-a4a8757bbcdd",
   "metadata": {},
   "outputs": [],
   "source": []
  }
 ],
 "metadata": {
  "kernelspec": {
   "display_name": "Python 3",
   "language": "python",
   "name": "python3"
  },
  "language_info": {
   "codemirror_mode": {
    "name": "ipython",
    "version": 3
   },
   "file_extension": ".py",
   "mimetype": "text/x-python",
   "name": "python",
   "nbconvert_exporter": "python",
   "pygments_lexer": "ipython3",
   "version": "3.7.12"
  }
 },
 "nbformat": 4,
 "nbformat_minor": 5
}
